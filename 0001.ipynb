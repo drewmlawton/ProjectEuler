{
 "cells": [
  {
   "cell_type": "markdown",
   "id": "410e4851-fc32-4be9-9992-6b73a2b3564d",
   "metadata": {},
   "source": [
    "# Problem 1\n",
    "\n",
    "*If we list all the natural numbers below 10 that are multiples of 3 or 5, we get 3, 5, 6 and 9. The sum of these multiples is 23.*\n",
    "\n",
    "*Find the sum of all the multiples of 3 or 5 below 1000.*"
   ]
  },
  {
   "cell_type": "markdown",
   "id": "ff4cba0e-6b12-4903-b6c5-6423abda95a0",
   "metadata": {},
   "source": [
    "Hey, this looks like FizzBuzz. Shouldn't be very hard to solve."
   ]
  },
  {
   "cell_type": "code",
   "execution_count": 1,
   "id": "accd7ffe-9cdb-4316-a7da-d5ff44ee8035",
   "metadata": {},
   "outputs": [
    {
     "data": {
      "text/plain": [
       "233168"
      ]
     },
     "execution_count": 1,
     "metadata": {},
     "output_type": "execute_result"
    }
   ],
   "source": [
    "def fizzBuzz(n):\n",
    "    return sum([i for i in range(n) if i % 3 == 0 or i % 5 == 0])\n",
    "\n",
    "fizzBuzz(1000)"
   ]
  },
  {
   "cell_type": "markdown",
   "id": "39150d11-2893-4269-9e1e-baaa82b93345",
   "metadata": {},
   "source": [
    "This is good, but there must be a better way to solve this. After all, every multiple of 15 is divisible by both 3 and 5."
   ]
  },
  {
   "cell_type": "markdown",
   "id": "3592071e-e6eb-4aef-8a6f-9f021aee5922",
   "metadata": {},
   "source": [
    "Furthermore, it looks like the sum of the nth set of 15 (using 0-indexing) is equal to 105n + 60.\n",
    "\n",
    "<table>\n",
    "    <thead>\n",
    "        <tr>\n",
    "            <td>Range</td>\n",
    "            <td>Values Divisible by 3 or 5</td>\n",
    "            <td>Sum</td>\n",
    "        </tr>\n",
    "    </thead>\n",
    "    <tbody>\n",
    "        <tr>\n",
    "            <td>1-15</td>\n",
    "            <td>3, 5, 6, 9, 10, 12, 15</td>\n",
    "            <td>60</td>\n",
    "        </tr>\n",
    "        <tr>\n",
    "            <td>16-30</td>\n",
    "            <td>18, 20, 21, 24, 25, 27, 30</td>\n",
    "            <td>165</td>\n",
    "        </tr>\n",
    "        <tr>\n",
    "            <td>31-45</td>\n",
    "            <td>33, 35, 36, 39, 40, 42, 45</td>\n",
    "            <td>270</td>\n",
    "        </tr>\n",
    "        <tr>\n",
    "            <td>46-60</td>\n",
    "            <td>48, 50, 51, 54, 55, 57, 60</td>\n",
    "            <td>375</td>\n",
    "        </tr>\n",
    "    </tbody>\n",
    "</table>"
   ]
  },
  {
   "cell_type": "markdown",
   "id": "ccf3e2bb-e81c-4146-bc45-a197688b7574",
   "metadata": {},
   "source": [
    "Let's define a new function using this information."
   ]
  },
  {
   "cell_type": "code",
   "execution_count": 2,
   "id": "3b813532-a592-4ef6-a368-1f99628ad007",
   "metadata": {},
   "outputs": [
    {
     "data": {
      "text/plain": [
       "233168"
      ]
     },
     "execution_count": 2,
     "metadata": {},
     "output_type": "execute_result"
    }
   ],
   "source": [
    "def fifteens(n):\n",
    "    fifteens = n//15 \n",
    "    return sum([60 + 105*(n) for n in range(fifteens)] +[n for n in range(fifteens*15 + 1, 1000) if n % 3 == 0 or n % 5 == 0])\n",
    "\n",
    "fifteens(1000)"
   ]
  },
  {
   "cell_type": "markdown",
   "id": "08c2660b-1928-4619-be9a-05da5bd2d3c5",
   "metadata": {},
   "source": [
    "Great! But this is still in linear time. Can we make this run in constant time?"
   ]
  },
  {
   "cell_type": "markdown",
   "id": "3bd23f68-78e3-4af9-8fb7-a14f0492d34b",
   "metadata": {},
   "source": [
    "Since the sums of the sets of 15 are an arithmetic sequence, we can use this formula: $$S_{n} = n(\\frac{a_{1} + a_{n}}{2})$$"
   ]
  },
  {
   "cell_type": "code",
   "execution_count": 3,
   "id": "e17e335e-d6be-44c9-894f-4fe2df935dd1",
   "metadata": {},
   "outputs": [
    {
     "data": {
      "text/plain": [
       "233168"
      ]
     },
     "execution_count": 3,
     "metadata": {},
     "output_type": "execute_result"
    }
   ],
   "source": [
    "def arithmeticSum(n):\n",
    "    fifteens = n//15\n",
    "    return  fifteens * (60 + 105*(fifteens - 1) + 60) // 2 + sum([n for n in range(fifteens*15 + 1, 1000) if n % 3 == 0 or n % 5 == 0])\n",
    "\n",
    "arithmeticSum(1000)"
   ]
  },
  {
   "cell_type": "code",
   "execution_count": 4,
   "id": "44951ecf-3b1a-4263-821e-4b3939e97557",
   "metadata": {},
   "outputs": [
    {
     "name": "stdout",
     "output_type": "stream",
     "text": [
      "fizzBuzz(1000): 7.877552509307861e-05\n",
      "fifteens(1000): 7.02662467956543e-06\n",
      "arithmeticSum(1000): 1.4095544815063476e-06\n",
      "\n",
      "fizzBuzz(100000): 0.007989384388923645\n",
      "fifteens(100000): 0.000592039179801941\n",
      "arithmeticSum(100000): 7.001638412475586e-07\n"
     ]
    }
   ],
   "source": [
    "import time\n",
    "import numpy as np\n",
    "\n",
    "def timeDifference(n):\n",
    "    for fn in (fizzBuzz, fifteens, arithmeticSum):\n",
    "        times = []\n",
    "        for i in range(10000):\n",
    "            start = time.time()\n",
    "            fn(n)\n",
    "            times.append(time.time() - start)\n",
    "        print(fn.__name__ + \"({}):\".format(n), np.mean(times))\n",
    "\n",
    "timeDifference(1000)\n",
    "print()\n",
    "timeDifference(100000)"
   ]
  },
  {
   "cell_type": "markdown",
   "id": "6969a6ab-092f-495f-a90d-e342a9d1a46e",
   "metadata": {},
   "source": [
    "Wow! The method using the formula for an arithmetic sum is substantially faster, and the difference in runtime is even more significant for larger ranges (e.g. finding the sum of the numbers divisible by 3 or 5 less than 100,000 instead of 1,000."
   ]
  },
  {
   "cell_type": "markdown",
   "id": "470b2851-f754-4ef7-8483-3f8945884cdb",
   "metadata": {},
   "source": [
    "Final answer: 233,168"
   ]
  }
 ],
 "metadata": {
  "kernelspec": {
   "display_name": "Python 3 (ipykernel)",
   "language": "python",
   "name": "python3"
  },
  "language_info": {
   "codemirror_mode": {
    "name": "ipython",
    "version": 3
   },
   "file_extension": ".py",
   "mimetype": "text/x-python",
   "name": "python",
   "nbconvert_exporter": "python",
   "pygments_lexer": "ipython3",
   "version": "3.9.6"
  }
 },
 "nbformat": 4,
 "nbformat_minor": 5
}
